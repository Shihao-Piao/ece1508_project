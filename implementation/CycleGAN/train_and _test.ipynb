{
 "cells": [
  {
   "cell_type": "code",
   "execution_count": 1,
   "metadata": {
    "colab": {
     "base_uri": "https://localhost:8080/"
    },
    "collapsed": true,
    "executionInfo": {
     "elapsed": 3771,
     "status": "ok",
     "timestamp": 1710651896533,
     "user": {
      "displayName": "sayho park",
      "userId": "15525567311210298677"
     },
     "user_tz": 240
    },
    "id": "N4vf_wj7ldJ7",
    "outputId": "1e8bed5f-3e5a-42cd-bac4-5338289af879"
   },
   "outputs": [
    {
     "output_type": "stream",
     "name": "stdout",
     "text": [
      "2.2.1+cu121\n"
     ]
    }
   ],
   "source": [
    "import torch\n",
    "torch_version = torch.__version__\n",
    "print(torch_version)"
   ]
  },
  {
   "cell_type": "code",
   "execution_count": 2,
   "metadata": {
    "colab": {
     "base_uri": "https://localhost:8080/"
    },
    "executionInfo": {
     "elapsed": 20683,
     "status": "ok",
     "timestamp": 1710651920922,
     "user": {
      "displayName": "sayho park",
      "userId": "15525567311210298677"
     },
     "user_tz": 240
    },
    "id": "seTcY6WElmUT",
    "outputId": "62d7ea2e-d481-47b1-abf0-6ca7d350804c"
   },
   "outputs": [
    {
     "output_type": "stream",
     "name": "stdout",
     "text": [
      "Mounted at /content/drive\n"
     ]
    }
   ],
   "source": [
    "from google.colab import drive\n",
    "drive.mount('/content/drive')"
   ]
  },
  {
   "cell_type": "code",
   "execution_count": 3,
   "metadata": {
    "colab": {
     "base_uri": "https://localhost:8080/"
    },
    "id": "TBlSrAvWltp8",
    "outputId": "a9e9beb7-d756-4acb-b42b-47e87b96cde3",
    "executionInfo": {
     "status": "ok",
     "timestamp": 1710030772332,
     "user_tz": 300,
     "elapsed": 4742607,
     "user": {
      "displayName": "sayho park",
      "userId": "15525567311210298677"
     }
    }
   },
   "outputs": [
    {
     "output_type": "stream",
     "name": "stdout",
     "text": [
      "Saving logs in checkpoints/my_CycleGAN\n",
      "Number of X images: 1854, Number of Y images: 888\n",
      "Starting training loop from epoch 41...\n",
      "Losses printed as [epoch / total epochs] [batch / total batches]\n",
      "Total epochs:  100\n",
      "LR: [0.0002]\n",
      "[41/100] [1854/1854] Losses: total_loss: 6.0437059\n",
      "LR: [0.0002]\n",
      "[42/100] [1854/1854] Losses: total_loss: 4.8363113\n",
      "LR: [0.0002]\n",
      "[43/100] [1854/1854] Losses: total_loss: 4.4915576\n",
      "LR: [0.0002]\n",
      "[44/100] [1854/1854] Losses: total_loss: 6.7071881\n",
      "LR: [0.0002]\n",
      "[45/100] [1854/1854] Losses: total_loss: 5.9581594\n",
      "LR: [0.0002]\n",
      "[46/100] [1854/1854] Losses: total_loss: 8.4720106\n",
      "LR: [0.0002]\n",
      "[47/100] [1854/1854] Losses: total_loss: 5.9334135\n",
      "LR: [0.0002]\n",
      "[48/100] [1854/1854] Losses: total_loss: 6.0907984\n",
      "LR: [0.0002]\n",
      "[49/100] [1854/1854] Losses: total_loss: 6.4123540\n",
      "LR: [0.0002]\n",
      "[50/100] [1854/1854] Losses: total_loss: 12.7342215\n",
      "Saving models at end of epoch 50\n",
      "LR: [0.0002]\n",
      "[51/100] [1854/1854] Losses: total_loss: 4.2882648\n",
      "LR: [0.0002]\n",
      "[52/100] [1854/1854] Losses: total_loss: 6.8094740\n",
      "LR: [0.0002]\n",
      "[53/100] [1854/1854] Losses: total_loss: 4.6038871\n",
      "LR: [0.0002]\n",
      "[54/100] [1854/1854] Losses: total_loss: 7.8048873\n",
      "LR: [0.0002]\n",
      "[55/100] [1854/1854] Losses: total_loss: 5.6455593\n",
      "LR: [0.0002]\n",
      "[56/100] [1854/1854] Losses: total_loss: 6.5428419\n",
      "LR: [0.0002]\n",
      "[57/100] [1854/1854] Losses: total_loss: 6.8228259\n",
      "LR: [0.0002]\n",
      "[58/100] [1854/1854] Losses: total_loss: 7.1479020\n",
      "LR: [0.0002]\n",
      "[59/100] [1854/1854] Losses: total_loss: 4.8210478\n",
      "LR: [0.0002]\n",
      "[60/100] [1854/1854] Losses: total_loss: 7.3641424\n",
      "Saving models at end of epoch 60\n",
      "LR: [0.0002]\n",
      "[61/100] [1854/1854] Losses: total_loss: 4.4318199\n",
      "LR: [0.0002]\n",
      "[62/100] [1854/1854] Losses: total_loss: 4.1720057\n",
      "LR: [0.0002]\n",
      "[63/100] [1854/1854] Losses: total_loss: 4.4666157\n",
      "LR: [0.0002]\n",
      "[64/100] [1854/1854] Losses: total_loss: 5.2431583\n",
      "LR: [0.0002]\n",
      "[65/100] [1854/1854] Losses: total_loss: 4.6885467\n",
      "LR: [0.0002]\n",
      "[66/100] [1854/1854] Losses: total_loss: 5.8591919\n",
      "LR: [0.0002]\n",
      "[67/100] [1854/1854] Losses: total_loss: 5.8665547\n",
      "LR: [0.0002]\n",
      "[68/100] [1854/1854] Losses: total_loss: 5.0252018\n",
      "LR: [0.0002]\n",
      "[69/100] [1854/1854] Losses: total_loss: 4.3004885\n",
      "LR: [0.0002]\n",
      "[70/100] [1854/1854] Losses: total_loss: 4.0675097\n",
      "Saving models at end of epoch 70\n",
      "LR: [0.0002]\n",
      "[71/100] [1854/1854] Losses: total_loss: 6.5446329\n",
      "LR: [0.00019354838709677422]\n",
      "[72/100] [1854/1854] Losses: total_loss: 3.5558276\n",
      "LR: [0.00018709677419354842]\n",
      "[73/100] [1854/1854] Losses: total_loss: 5.6881065\n",
      "LR: [0.00018064516129032257]\n",
      "[74/100] [1854/1854] Losses: total_loss: 4.5500631\n",
      "LR: [0.00017419354838709678]\n",
      "[75/100] [1854/1854] Losses: total_loss: 5.7920141\n",
      "LR: [0.00016774193548387098]\n",
      "[76/100] [1854/1854] Losses: total_loss: 4.7310028\n",
      "LR: [0.00016129032258064516]\n",
      "[77/100] [1854/1854] Losses: total_loss: 9.4250851\n",
      "LR: [0.00015483870967741937]\n",
      "[78/100] [1854/1854] Losses: total_loss: 3.3504097\n",
      "LR: [0.00014838709677419355]\n",
      "[79/100] [1854/1854] Losses: total_loss: 5.0856543\n",
      "LR: [0.00014193548387096775]\n",
      "[80/100] [1854/1854] Losses: total_loss: 4.9934182\n",
      "Saving models at end of epoch 80\n",
      "LR: [0.00013548387096774196]\n",
      "[81/100] [1854/1854] Losses: total_loss: 4.4874630\n",
      "LR: [0.00012903225806451613]\n",
      "[82/100] [1854/1854] Losses: total_loss: 5.1536427\n",
      "LR: [0.00012258064516129034]\n",
      "[83/100] [1854/1854] Losses: total_loss: 3.9042585\n",
      "LR: [0.0001161290322580645]\n",
      "[84/100] [1854/1854] Losses: total_loss: 6.5655313\n",
      "LR: [0.00010967741935483871]\n",
      "[85/100] [1854/1854] Losses: total_loss: 4.9551749\n",
      "LR: [0.0001032258064516129]\n",
      "[86/100] [1854/1854] Losses: total_loss: 7.0457969\n",
      "LR: [9.677419354838711e-05]\n",
      "[87/100] [1854/1854] Losses: total_loss: 4.0115385\n",
      "LR: [9.03225806451613e-05]\n",
      "[88/100] [1854/1854] Losses: total_loss: 6.6641760\n",
      "LR: [8.387096774193548e-05]\n",
      "[89/100] [1854/1854] Losses: total_loss: 4.1078415\n",
      "LR: [7.741935483870968e-05]\n",
      "[90/100] [1854/1854] Losses: total_loss: 4.9604964\n",
      "Saving models at end of epoch 90\n",
      "LR: [7.096774193548388e-05]\n",
      "[91/100] [1854/1854] Losses: total_loss: 5.1792388\n",
      "LR: [6.451612903225808e-05]\n",
      "[92/100] [1854/1854] Losses: total_loss: 6.0221996\n",
      "LR: [5.806451612903225e-05]\n",
      "[93/100] [1854/1854] Losses: total_loss: 5.0453620\n",
      "LR: [5.161290322580645e-05]\n",
      "[94/100] [1854/1854] Losses: total_loss: 5.0041604\n",
      "LR: [4.516129032258065e-05]\n",
      "[95/100] [1854/1854] Losses: total_loss: 6.0542722\n",
      "LR: [3.870967741935485e-05]\n",
      "[96/100] [1854/1854] Losses: total_loss: 3.6294417\n",
      "LR: [3.225806451612903e-05]\n",
      "[97/100] [1854/1854] Losses: total_loss: 8.1052876\n",
      "LR: [2.5806451612903226e-05]\n",
      "[98/100] [1854/1854] Losses: total_loss: 5.1962280\n",
      "LR: [1.9354838709677424e-05]\n",
      "[99/100] [1854/1854] Losses: total_loss: 4.4753599\n",
      "LR: [1.2903225806451625e-05]\n",
      "[100/100] [1854/1854] Losses: total_loss: 5.6569462\n",
      "Saving models at end of epoch 100\n"
     ]
    }
   ],
   "source": [
    "!cd drive/MyDrive/cycleGAN/ &&  python3 train.py"
   ]
  },
  {
   "cell_type": "code",
   "source": [
    "!cd drive/MyDrive/cycleGAN/ &&  python3 test.py"
   ],
   "metadata": {
    "colab": {
     "base_uri": "https://localhost:8080/"
    },
    "id": "nXGVG1zzStA0",
    "executionInfo": {
     "status": "ok",
     "timestamp": 1710039656513,
     "user_tz": 300,
     "elapsed": 32200,
     "user": {
      "displayName": "sayho park",
      "userId": "15525567311210298677"
     }
    },
    "outputId": "45baf6ff-3b34-415a-bd43-27e377aaf564"
   },
   "execution_count": 5,
   "outputs": [
    {
     "output_type": "stream",
     "name": "stdout",
     "text": [
      "Saving logs in checkpoints/my_CycleGAN\n",
      "Saving images in results/my_CycleGAN_test\n"
     ]
    }
   ]
  },
  {
   "cell_type": "markdown",
   "source": [
    "## Loss analyze"
   ],
   "metadata": {
    "collapsed": false
   }
  },
  {
   "cell_type": "code",
   "execution_count": null,
   "outputs": [],
   "source": [
    "import pickle\n",
    "\n",
    "\n",
    "def load_losses_from_pkl(filename):\n",
    "    \"\"\"\n",
    "    Loads loss data from a pickle file.\n",
    "\n",
    "    Parameters:\n",
    "        filename (str): The filename of the pickle file to load.\n",
    "\n",
    "    Returns:\n",
    "        The deserialized Python object from the pickle file.\n",
    "    \"\"\"\n",
    "    with open(filename, 'rb') as f:\n",
    "        data = pickle.load(f)\n",
    "    return data"
   ],
   "metadata": {
    "collapsed": false
   }
  },
  {
   "cell_type": "code",
   "execution_count": null,
   "outputs": [],
   "source": [
    "losses_filename = 'checkpoints/loss.pkl'\n",
    "\n",
    "# Load the losses from the pickle file\n",
    "losses_data = load_losses_from_pkl(losses_filename)\n",
    "\n",
    "# Print the losses to check the file's content\n",
    "print(\"Loaded losses data from pickle file:\")\n",
    "for loss in losses_data:\n",
    "    print(loss['total_loss'].item())"
   ],
   "metadata": {
    "collapsed": false
   }
  }
 ],
 "metadata": {
  "accelerator": "GPU",
  "colab": {
   "gpuType": "T4",
   "machine_shape": "hm",
   "provenance": []
  },
  "kernelspec": {
   "display_name": "Python 3",
   "name": "python3"
  },
  "language_info": {
   "codemirror_mode": {
    "name": "ipython",
    "version": 2
   },
   "file_extension": ".py",
   "mimetype": "text/x-python",
   "name": "python",
   "nbconvert_exporter": "python",
   "pygments_lexer": "ipython2",
   "version": "2.7.6"
  }
 },
 "nbformat": 4,
 "nbformat_minor": 0
}
